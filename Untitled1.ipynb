{
 "cells": [
  {
   "cell_type": "markdown",
   "metadata": {},
   "source": [
    "# Birthday Paradox"
   ]
  },
  {
   "cell_type": "markdown",
   "metadata": {},
   "source": [
    "**Statement:**\n",
    "\n",
    "In a random group of 23 people, there is about a 50 percent chance that two people have the same birthday.\n",
    "\n",
    "\n",
    "Let's say the probability that two people in a room of n have same birthday be $$P(same)$$\n",
    "\n",
    "Then the opposite would be $$P(different)$$.\n",
    "\n",
    "Clearly we have $$P(same)=1-P(different)$$\n",
    "\n",
    "solution1\n",
    "\n",
    "There are cn2 pairs of birthdays in total, and all of them should be different. Total pairing number is $$^nC_2$$.\n",
    "\n",
    "And for each pairing, the probabality is 364/365.\n",
    "\n",
    "Thus, (364/365)^ $$^nC_2$$ = 1-p\n",
    "\n",
    "p= about ...\n",
    "\n",
    "solution2\n",
    "\n",
    "355/354\n",
    "\n",
    "solution3\n",
    "\n",
    "empirical"
   ]
  },
  {
   "cell_type": "markdown",
   "metadata": {},
   "source": [
    "$$^nC_2$$"
   ]
  },
  {
   "cell_type": "code",
   "execution_count": 1,
   "metadata": {},
   "outputs": [],
   "source": [
    "import numpy as np\n",
    "import pandas as pd\n",
    "import seaborn as sns;\n",
    "import matplotlib.pyplot as plt"
   ]
  },
  {
   "cell_type": "code",
   "execution_count": 22,
   "metadata": {},
   "outputs": [],
   "source": [
    "# Model 1"
   ]
  },
  {
   "cell_type": "code",
   "execution_count": 2,
   "metadata": {},
   "outputs": [],
   "source": [
    "def get_num(p):\n",
    "    a=np.log(1-p)\n",
    "    b=np.log(364/365)\n",
    "    c=a-b\n",
    "    return (1/2*b,-1/2*b,-a)"
   ]
  },
  {
   "cell_type": "code",
   "execution_count": 3,
   "metadata": {},
   "outputs": [],
   "source": [
    "def solve_numbers(coeff):\n",
    "    '''\n",
    "    p[0] * x**n + p[1] * x**(n-1) + ... + p[n-1]*x + p[n]\n",
    "    https://docs.scipy.org/doc/numpy-1.15.0/reference/generated/numpy.roots.html\n",
    "    '''\n",
    "    r = np.roots(coeff)\n",
    "    list_r=[int(item)+1 for item in r if item>0]\n",
    "    return (min(list_r))\n"
   ]
  },
  {
   "cell_type": "code",
   "execution_count": 4,
   "metadata": {},
   "outputs": [],
   "source": [
    "res=[]\n",
    "n=100\n",
    "for i in range(1,n):\n",
    "    res.append([i,solve_numbers(get_num(1/n*i))])\n"
   ]
  },
  {
   "cell_type": "code",
   "execution_count": 5,
   "metadata": {},
   "outputs": [
    {
     "data": {
      "image/png": "[encoded data removed]",
      "text/plain": [
       "<Figure size 432x288 with 1 Axes>"
      ]
     },
     "metadata": {
      "needs_background": "light"
     },
     "output_type": "display_data"
    }
   ],
   "source": [
    "df=pd.DataFrame(res,columns=['Pct','N'])\n",
    "ax = sns.lineplot(x='Pct', y='N', data=df)"
   ]
  },
  {
   "cell_type": "code",
   "execution_count": 21,
   "metadata": {},
   "outputs": [
    {
     "data": {
      "text/plain": [
       "6"
      ]
     },
     "execution_count": 21,
     "metadata": {},
     "output_type": "execute_result"
    }
   ],
   "source": [
    "solve_numbers(get_num(4/100))"
   ]
  },
  {
   "cell_type": "code",
   "execution_count": null,
   "metadata": {},
   "outputs": [],
   "source": []
  },
  {
   "cell_type": "code",
   "execution_count": null,
   "metadata": {},
   "outputs": [],
   "source": []
  },
  {
   "cell_type": "code",
   "execution_count": null,
   "metadata": {},
   "outputs": [],
   "source": [
    "#https://www.geeksforgeeks.org/birthday-paradox/"
   ]
  },
  {
   "cell_type": "code",
   "execution_count": 24,
   "metadata": {},
   "outputs": [
    {
     "name": "stdout",
     "output_type": "stream",
     "text": [
      "23\n"
     ]
    }
   ],
   "source": [
    "import math \n",
    "  \n",
    "# Returns approximate number of  \n",
    "# people for a given probability \n",
    "def find( p ): \n",
    "    return math.ceil(math.sqrt(2 * 365 *\n",
    "                     math.log(1/(1-p)))); \n",
    "  \n",
    "# Driver Code \n",
    "print(find(0.50)) "
   ]
  },
  {
   "cell_type": "code",
   "execution_count": null,
   "metadata": {},
   "outputs": [],
   "source": []
  }
 ],
 "metadata": {
  "kernelspec": {
   "display_name": "Python 3",
   "language": "python",
   "name": "python3"
  },
  "language_info": {
   "codemirror_mode": {
    "name": "ipython",
    "version": 3
   },
   "file_extension": ".py",
   "mimetype": "text/x-python",
   "name": "python",
   "nbconvert_exporter": "python",
   "pygments_lexer": "ipython3",
   "version": "3.7.3"
  }
 },
 "nbformat": 4,
 "nbformat_minor": 4
}
